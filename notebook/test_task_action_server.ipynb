{
 "cells": [
  {
   "cell_type": "code",
   "execution_count": null,
   "metadata": {},
   "outputs": [],
   "source": [
    "# ! pip install numpy==1.24.4 notebook==6.5.5 ipykernel jupyros\n",
    "! source /home/qcr/robotarchi_moveit_ws/devel/setup.bash\n",
    "\n",
    "# import libraries\n",
    "import sys\n",
    "sys.path.append('/home/qcr/robotarchi_moveit_ws/devel/lib/python3/dist-packages')\n",
    "\n",
    "import jupyros\n",
    "import rospy\n",
    "\n",
    "# project modules\n",
    "from robotarchi.msg import TaskAction, TaskGoal, TaskResult\n",
    "\n",
    "rospy.init_node('action_node')"
   ]
  },
  {
   "cell_type": "code",
   "execution_count": null,
   "metadata": {},
   "outputs": [],
   "source": [
    "def cb_goal(status, result):\n",
    "    rospy.loginfo(f'Status: {status} result: {result}')\n",
    "\n",
    "jupyros.action_client('/task_trees/arm/do', TaskAction, TaskGoal, callbacks={'done_cb': cb_goal})"
   ]
  }
 ],
 "metadata": {
  "kernelspec": {
   "display_name": "Python 3",
   "language": "python",
   "name": "python3"
  },
  "language_info": {
   "codemirror_mode": {
    "name": "ipython",
    "version": 3
   },
   "file_extension": ".py",
   "mimetype": "text/x-python",
   "name": "python",
   "nbconvert_exporter": "python",
   "pygments_lexer": "ipython3",
   "version": "3.8.10"
  }
 },
 "nbformat": 4,
 "nbformat_minor": 2
}
